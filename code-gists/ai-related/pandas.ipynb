{
 "cells": [
  {
   "cell_type": "markdown",
   "metadata": {},
   "source": [
    "# Pandas"
   ]
  },
  {
   "cell_type": "code",
   "execution_count": 2,
   "metadata": {},
   "outputs": [],
   "source": [
    "import pandas as pd\n",
    "import numpy as np\n",
    "import matplotlib.pyplot as plt"
   ]
  },
  {
   "cell_type": "markdown",
   "metadata": {},
   "source": [
    "## Creating DataFrames and Series from:\n",
    "- python dict and lists\n",
    "- csv files\n",
    "- numpy arrays"
   ]
  },
  {
   "cell_type": "code",
   "execution_count": 9,
   "metadata": {},
   "outputs": [
    {
     "name": "stdout",
     "output_type": "stream",
     "text": [
      "0    1\n",
      "1    2\n",
      "2    3\n",
      "3    4\n",
      "4    5\n",
      "dtype: int64\n",
      "type ->  <class 'pandas.core.series.Series'>\n",
      "\n",
      "a    1.0\n",
      "b    2.0\n",
      "c    3.0\n",
      "d    4.0\n",
      "e    5.0\n",
      "dtype: float32\n"
     ]
    }
   ],
   "source": [
    "# Creating a series from the list\n",
    "arr_py = [1,2,3,4,5]\n",
    "s1 = pd.Series(arr_py)\n",
    "print(s1)\n",
    "print(\"type -> \", type(s1), end=\"\\n\\n\")\n",
    "\n",
    "# Creating a Series with custom index (by default it is like 0,1,2,3...)\n",
    "s2 = pd.Series(arr_py, index=['a', 'b', 'c', 'd', 'e'], dtype=np.float32)\n",
    "print(s2)\n"
   ]
  },
  {
   "cell_type": "code",
   "execution_count": 3,
   "metadata": {},
   "outputs": [
    {
     "name": "stdout",
     "output_type": "stream",
     "text": [
      "Name                 [Alice, Bob, Charlie, David]\n",
      "Age                              [25, 30, 35, 40]\n",
      "City    [New York, Los Angeles, Chicago, Houston]\n",
      "dtype: object\n",
      "\n",
      "<class 'pandas.core.series.Series'>\n",
      "\n",
      "<class 'str'>\n",
      "\n"
     ]
    }
   ],
   "source": [
    "# Creating a series from a dictionary.\n",
    "data_dict = {\n",
    "    'Name': ['Alice', 'Bob', 'Charlie', 'David'],\n",
    "    'Age': [25, 30, 35, 40],\n",
    "    'City': ['New York', 'Los Angeles', 'Chicago', 'Houston']\n",
    "}\n",
    "\n",
    "s3 = pd.Series(data_dict)\n",
    "print(s3,end=\"\\n\\n\")\n",
    "print(type(s3),end=\"\\n\\n\")\n",
    "print(type(s3[\"Name\"][0]),end=\"\\n\\n\")"
   ]
  },
  {
   "cell_type": "code",
   "execution_count": 16,
   "metadata": {},
   "outputs": [
    {
     "name": "stdout",
     "output_type": "stream",
     "text": [
      "\n",
      "DataFrame from List of Dictionaries:\n",
      " 0    {'Name': 'Eve', 'Age': 28, 'City': 'Philadelph...\n",
      "1      {'Name': 'Frank', 'Age': 33, 'City': 'Phoenix'}\n",
      "2    {'Name': 'Grace', 'Age': 38, 'City': 'San Anto...\n",
      "dtype: object\n",
      "<class 'pandas.core.series.Series'>\n",
      "\n",
      "<class 'dict'>\n",
      "\n"
     ]
    }
   ],
   "source": [
    "# Creating a DataFrame from a list of dictionaries\n",
    "data_list_of_dicts = [\n",
    "    {'Name': 'Eve', 'Age': 28, 'City': 'Philadelphia'},\n",
    "    {'Name': 'Frank', 'Age': 33, 'City': 'Phoenix'},\n",
    "    {'Name': 'Grace', 'Age': 38, 'City': 'San Antonio'}\n",
    "]\n",
    "s4 = pd.Series(data_list_of_dicts)\n",
    "print(\"\\nDataFrame from List of Dictionaries:\\n\", s4)\n",
    "print(type(s4),end=\"\\n\\n\")\n",
    "print(type(s4[0]),end=\"\\n\\n\")"
   ]
  },
  {
   "cell_type": "code",
   "execution_count": 17,
   "metadata": {},
   "outputs": [
    {
     "name": "stdout",
     "output_type": "stream",
     "text": [
      "      Name  Age         City\n",
      "0    Alice   25     New York\n",
      "1      Bob   30  Los Angeles\n",
      "2  Charlie   35      Chicago\n",
      "3    David   40      Houston\n",
      "\n",
      "<class 'pandas.core.frame.DataFrame'>\n",
      "\n",
      "<class 'str'>\n",
      "\n"
     ]
    }
   ],
   "source": [
    "# Creating a DataFrame from a dictionary, the keys are considered as the columns and the values (list) as the \n",
    "# row items for those columns\n",
    "data_dict = {\n",
    "    'Name': ['Alice', 'Bob', 'Charlie', 'David'],\n",
    "    'Age': [25, 30, 35, 40],\n",
    "    'City': ['New York', 'Los Angeles', 'Chicago', 'Houston']\n",
    "}\n",
    "\n",
    "df1 = pd.DataFrame(data_dict)\n",
    "print(df1,end=\"\\n\\n\")\n",
    "print(type(df1),end=\"\\n\\n\")\n",
    "print(type(df1[\"Name\"][0]),end=\"\\n\\n\")"
   ]
  },
  {
   "cell_type": "code",
   "execution_count": 20,
   "metadata": {},
   "outputs": [
    {
     "name": "stdout",
     "output_type": "stream",
     "text": [
      "\n",
      "DataFrame from List of Dictionaries:\n",
      "     Name  Age          City\n",
      "0    Eve   28  Philadelphia\n",
      "1  Frank   33       Phoenix\n",
      "2  Grace   38   San Antonio\n"
     ]
    }
   ],
   "source": [
    "# Creating a DataFrame from a list of dictionaries\n",
    "data_list_of_dicts = [\n",
    "    {'Name': 'Eve', 'Age': 28, 'City': 'Philadelphia'},\n",
    "    {'Name': 'Frank', 'Age': 33, 'City': 'Phoenix'},\n",
    "    {'Name': 'Grace', 'Age': 38, 'City': 'San Antonio'}\n",
    "]\n",
    "df2 = pd.DataFrame(data_list_of_dicts)\n",
    "print(\"\\nDataFrame from List of Dictionaries:\\n\", df2)"
   ]
  },
  {
   "cell_type": "markdown",
   "metadata": {},
   "source": [
    "### Visualization"
   ]
  },
  {
   "cell_type": "code",
   "execution_count": 21,
   "metadata": {},
   "outputs": [
    {
     "data": {
      "image/png": "[encoded data removed]",
      "text/plain": [
       "<Figure size 640x480 with 1 Axes>"
      ]
     },
     "metadata": {},
     "output_type": "display_data"
    }
   ],
   "source": [
    "# Visualization of DataFrame Ages\n",
    "df_combined = pd.concat([df1, df2], ignore_index=True)\n",
    "plt.bar(df_combined['Name'], df_combined['Age'], color='skyblue')\n",
    "plt.xlabel('Name')\n",
    "plt.ylabel('Age')\n",
    "plt.title('Age of Individuals')\n",
    "plt.xticks(rotation=45)\n",
    "plt.show()"
   ]
  },
  {
   "cell_type": "code",
   "execution_count": 22,
   "metadata": {},
   "outputs": [
    {
     "data": {
      "text/html": [
       "<div>\n",
       "<style scoped>\n",
       "    .dataframe tbody tr th:only-of-type {\n",
       "        vertical-align: middle;\n",
       "    }\n",
       "\n",
       "    .dataframe tbody tr th {\n",
       "        vertical-align: top;\n",
       "    }\n",
       "\n",
       "    .dataframe thead th {\n",
       "        text-align: right;\n",
       "    }\n",
       "</style>\n",
       "<table border=\"1\" class=\"dataframe\">\n",
       "  <thead>\n",
       "    <tr style=\"text-align: right;\">\n",
       "      <th></th>\n",
       "      <th>Name</th>\n",
       "      <th>Age</th>\n",
       "      <th>City</th>\n",
       "    </tr>\n",
       "  </thead>\n",
       "  <tbody>\n",
       "    <tr>\n",
       "      <th>0</th>\n",
       "      <td>Alice</td>\n",
       "      <td>25</td>\n",
       "      <td>New York</td>\n",
       "    </tr>\n",
       "    <tr>\n",
       "      <th>1</th>\n",
       "      <td>Bob</td>\n",
       "      <td>30</td>\n",
       "      <td>Los Angeles</td>\n",
       "    </tr>\n",
       "    <tr>\n",
       "      <th>2</th>\n",
       "      <td>Charlie</td>\n",
       "      <td>35</td>\n",
       "      <td>Chicago</td>\n",
       "    </tr>\n",
       "    <tr>\n",
       "      <th>3</th>\n",
       "      <td>David</td>\n",
       "      <td>40</td>\n",
       "      <td>Houston</td>\n",
       "    </tr>\n",
       "    <tr>\n",
       "      <th>4</th>\n",
       "      <td>Eve</td>\n",
       "      <td>28</td>\n",
       "      <td>Philadelphia</td>\n",
       "    </tr>\n",
       "    <tr>\n",
       "      <th>5</th>\n",
       "      <td>Frank</td>\n",
       "      <td>33</td>\n",
       "      <td>Phoenix</td>\n",
       "    </tr>\n",
       "    <tr>\n",
       "      <th>6</th>\n",
       "      <td>Grace</td>\n",
       "      <td>38</td>\n",
       "      <td>San Antonio</td>\n",
       "    </tr>\n",
       "  </tbody>\n",
       "</table>\n",
       "</div>"
      ],
      "text/plain": [
       "      Name  Age          City\n",
       "0    Alice   25      New York\n",
       "1      Bob   30   Los Angeles\n",
       "2  Charlie   35       Chicago\n",
       "3    David   40       Houston\n",
       "4      Eve   28  Philadelphia\n",
       "5    Frank   33       Phoenix\n",
       "6    Grace   38   San Antonio"
      ]
     },
     "execution_count": 22,
     "metadata": {},
     "output_type": "execute_result"
    }
   ],
   "source": [
    "df_combined"
   ]
  }
 ],
 "metadata": {
  "kernelspec": {
   "display_name": "Python 3",
   "language": "python",
   "name": "python3"
  },
  "language_info": {
   "codemirror_mode": {
    "name": "ipython",
    "version": 3
   },
   "file_extension": ".py",
   "mimetype": "text/x-python",
   "name": "python",
   "nbconvert_exporter": "python",
   "pygments_lexer": "ipython3",
   "version": "3.12.0"
  }
 },
 "nbformat": 4,
 "nbformat_minor": 2
}
